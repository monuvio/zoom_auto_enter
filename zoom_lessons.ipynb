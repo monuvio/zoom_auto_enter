{
 "cells": [
  {
   "cell_type": "code",
   "execution_count": 40,
   "metadata": {},
   "outputs": [
    {
     "name": "stderr",
     "output_type": "stream",
     "text": [
      "C:\\Users\\admin\\Anaconda3\\lib\\site-packages\\pywinauto\\application.py:1087: UserWarning: 32-bit application should be automated using 32-bit Python (you use 64-bit Python)\n",
      "  UserWarning)\n"
     ]
    }
   ],
   "source": [
    "from pywinauto.application import Application\n",
    "\n",
    "app = Application().start('C:/Users/admin/AppData/Roaming/Zoom/bin/Zoom.exe')"
   ]
  },
  {
   "cell_type": "code",
   "execution_count": 47,
   "metadata": {
    "scrolled": false
   },
   "outputs": [],
   "source": [
    "import pyautogui\n",
    "import time"
   ]
  },
  {
   "cell_type": "code",
   "execution_count": 38,
   "metadata": {},
   "outputs": [
    {
     "data": {
      "text/plain": [
       "Size(width=1600, height=900)"
      ]
     },
     "execution_count": 38,
     "metadata": {},
     "output_type": "execute_result"
    }
   ],
   "source": [
    "pyautogui.size()"
   ]
  },
  {
   "cell_type": "code",
   "execution_count": 55,
   "metadata": {},
   "outputs": [],
   "source": [
    "def open_lesson(conference_id):\n",
    "    pyautogui.moveTo(825, 460)\n",
    "    pyautogui.click()\n",
    "    time.sleep(2)\n",
    "    pyautogui.write(conference_id)\n",
    "    time.sleep(1)\n",
    "    pyautogui.moveTo(826, 587)\n",
    "    pyautogui.click()\n",
    "    time.sleep(2)\n",
    "    pyautogui.write('12345')\n",
    "    time.sleep(1)\n",
    "    pyautogui.moveTo(774, 592)\n",
    "    pyautogui.click()"
   ]
  },
  {
   "cell_type": "code",
   "execution_count": 56,
   "metadata": {},
   "outputs": [],
   "source": [
    "open_lesson('214-416-3266')"
   ]
  },
  {
   "cell_type": "code",
   "execution_count": 65,
   "metadata": {},
   "outputs": [
    {
     "data": {
      "text/plain": [
       "time.struct_time(tm_year=2020, tm_mon=4, tm_mday=24, tm_hour=12, tm_min=46, tm_sec=29, tm_wday=4, tm_yday=115, tm_isdst=0)"
      ]
     },
     "execution_count": 65,
     "metadata": {},
     "output_type": "execute_result"
    }
   ],
   "source": [
    "time.localtime()"
   ]
  },
  {
   "cell_type": "code",
   "execution_count": 66,
   "metadata": {},
   "outputs": [],
   "source": [
    "lesson_id = {\n",
    "             'math':'454-967-2940',\n",
    "             'eng':'497-102-0877',\n",
    "             'inf':'971-283-5852',\n",
    "             'soc':'446-802-1948',\n",
    "             'phys':'265-258-6395',\n",
    "             'rus':'214-416-3266',\n",
    "             'obz':'565-149-1744'\n",
    "             }"
   ]
  },
  {
   "cell_type": "code",
   "execution_count": 67,
   "metadata": {},
   "outputs": [],
   "source": [
    "week_lessons = [\n",
    "                [0, 8, 55, 'math'],\n",
    "                [0, 9, 35, 'eng'],\n",
    "                [0, 10, 15, 'inf'],\n",
    "                [0, 10, 55, 'math'],\n",
    "                [0, 11, 35, 'soc'],\n",
    "    \n",
    "                [1, 8, 55, 'phys'],\n",
    "                [1, 9, 35, 'phys'],\n",
    "                [1, 10, 15, 'rus'],\n",
    "                [1, 10, 55, 'rus'],\n",
    "                [1, 11, 35, 'soc'],\n",
    "    \n",
    "                [2, 9, 35, 'obz'],\n",
    "                [2, 10, 15, 'eng'],\n",
    "                [2, 10, 55, 'inf'],\n",
    "                [2, 11, 35, 'phys'],\n",
    "    \n",
    "                [3, 8, 55, 'phys'],\n",
    "                [3, 9, 35, 'inf'],\n",
    "                [3, 10, 55, 'rus'],\n",
    "                [3, 11, 35, 'soc'],\n",
    "                [3, 12, 25, 'soc'],\n",
    "    \n",
    "                [4, 9, 35, 'soc'],\n",
    "                [4, 10, 55, 'math'],\n",
    "                [4, 11, 35, 'math'],\n",
    "                [4, 12, 25, 'rus'],\n",
    "                [4, 13, 5, 'inf'],\n",
    "    \n",
    "                [5, 8, 55, 'math'],\n",
    "                [5, 9, 35, 'math'],\n",
    "                [5, 10, 55, 'eng']\n",
    "                ]"
   ]
  },
  {
   "cell_type": "code",
   "execution_count": null,
   "metadata": {},
   "outputs": [],
   "source": [
    "while True:\n",
    "    for lesson in week_lessons:\n",
    "        if time.localtime().tm_wday == lesson[0]\\\n",
    "        and time.localtime().tm_hour == lesson[1]\\\n",
    "        and time.localtime().tm_hour == lesson[2]:\n",
    "            open_lesson(lesson_id[lesson[3]])\n",
    "    time.sleep(25)"
   ]
  }
 ],
 "metadata": {
  "kernelspec": {
   "display_name": "Python 3",
   "language": "python",
   "name": "python3"
  },
  "language_info": {
   "codemirror_mode": {
    "name": "ipython",
    "version": 3
   },
   "file_extension": ".py",
   "mimetype": "text/x-python",
   "name": "python",
   "nbconvert_exporter": "python",
   "pygments_lexer": "ipython3",
   "version": "3.7.3"
  }
 },
 "nbformat": 4,
 "nbformat_minor": 2
}
